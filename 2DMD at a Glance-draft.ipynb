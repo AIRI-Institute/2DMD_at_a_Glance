{
 "cells": [
  {
   "cell_type": "markdown",
   "id": "6b55e377",
   "metadata": {},
   "source": [
    " # 2DMD at a Glance"
   ]
  },
  {
   "cell_type": "markdown",
   "id": "885fdff3",
   "metadata": {},
   "source": [
    "The commands below are used to import the libraries used throughout the Jupyter notebook"
   ]
  },
  {
   "cell_type": "code",
   "execution_count": 39,
   "id": "d73bec56",
   "metadata": {},
   "outputs": [],
   "source": [
    "import io\n",
    "import re\n",
    "import ast\n",
    "import zipfile\n",
    "import tarfile\n",
    "import gzip\n",
    "import matplotlib.pyplot as plt\n",
    "import numpy as np\n",
    "import pandas as pd\n",
    "import seaborn as sns\n",
    "\n",
    "from joblib import Parallel, delayed\n",
    "from collections import Counter, OrderedDict\n",
    "from itertools import chain\n",
    "from tqdm.notebook import tqdm\n",
    "from pymatgen.symmetry.analyzer import SpacegroupAnalyzer\n",
    "from pymatgen.core.periodic_table import Element\n",
    "from pymatgen.io import cif"
   ]
  },
  {
   "cell_type": "markdown",
   "id": "07af9e8e",
   "metadata": {},
   "source": [
    "## Functions"
   ]
  },
  {
   "cell_type": "markdown",
   "id": "8f9dc537",
   "metadata": {},
   "source": [
    "Functions for data processing and data preparation in the Pandas DataFrame format"
   ]
  },
  {
   "cell_type": "code",
   "execution_count": 40,
   "id": "76d47806",
   "metadata": {},
   "outputs": [],
   "source": [
    "BASES_and_CONCENTRATIONS = [['BP_spin', 'high'], ['GaSe_spin', 'high'],\n",
    "                            ['hBN_spin', 'high'], ['InSe_spin', 'high'],\n",
    "                            ['MoS2', 'low'], ['MoS2', 'high'],\n",
    "                            ['WSe2', 'low'], ['WSe2', 'high']\n",
    "                           ]\n",
    "\n",
    "\n",
    "def readStructures(base, concentration, structure_ids):\n",
    "\n",
    "    with zipfile.ZipFile('2d-materials-point-defects-all.zip') as datasets_zip:\n",
    "        with datasets_zip.open(f'{base}_{concentration}_concentration.zip') as base_zip:\n",
    "            with zipfile.ZipFile(base_zip) as nested_zip:\n",
    "                with tarfile.open(fileobj=io.BytesIO(nested_zip.read('initial.tar.gz'))) as tf:\n",
    "                    cifs = [tf.extractfile(f'{_id}.cif').read().decode(\"utf-8\") \n",
    "                            for _id in tqdm(structure_ids)]\n",
    "\n",
    "    return pd.DataFrame(cifs, index=structure_ids, columns=['cif'])\n",
    "\n",
    "\n",
    "def parseStructure(cif_string):\n",
    "\n",
    "    structure = cif.CifParser.from_string(cif_string).get_structures(primitive=False)[0]\n",
    "    space_group_number = SpacegroupAnalyzer(structure).get_space_group_number()\n",
    "    lattice = structure.lattice.matrix\n",
    "    positions = np.array([x.coords for x in structure])\n",
    "    atomic_symbols = np.array(list(map(lambda x: x.symbol, structure.species)))\n",
    "    atomic_numbers = np.array(list(map(lambda x: Element(x).number, atomic_symbols)))\n",
    "    formula = OrderedDict(sorted(Counter(atomic_symbols).items()))\n",
    "    return [space_group_number, lattice, positions, atomic_symbols, atomic_numbers, formula, \n",
    "                         len(atomic_numbers), len(formula)]\n",
    "\n",
    "\n",
    "def structureFormationEnergy(structure, neat_elements):\n",
    "\n",
    "    fe = structure['energy']\n",
    "    formula = structure['formula']\n",
    "    for element in formula.keys() :\n",
    "        element_chem_potential = neat_elements.loc[element]['chemical_potential']\n",
    "        fe -= formula[element] * element_chem_potential\n",
    "    return fe\n",
    "\n",
    "\n",
    "def flatList(list_):\n",
    "    \n",
    "    return [str(item) for sublist in list_ for item in sublist]\n",
    "\n",
    "\n",
    "def readDataFromArchive(base, concentration):\n",
    "    \n",
    "    with zipfile.ZipFile('2d-materials-point-defects-all.zip') as datasets_zip:\n",
    "        with datasets_zip.open(f'{base}_{concentration}_concentration.zip') as base_zip:\n",
    "            with zipfile.ZipFile(base_zip) as nested_zip:\n",
    "                \n",
    "                with nested_zip.open('defects.csv.gz') as defects_gz :\n",
    "                    with gzip.open(defects_gz) as defects_data :\n",
    "                        defects_df = pd.read_csv(defects_data, sep=',')\n",
    "                \n",
    "                with nested_zip.open('descriptors.csv') as descriptors :\n",
    "                    descriptors_df = pd.read_csv(descriptors, sep=',')\n",
    "                \n",
    "                with nested_zip.open('elements.csv') as elements :\n",
    "                    neat_elements_df = pd.read_csv(elements, sep=',')\n",
    "                neat_elements_df.set_index('element', inplace=True, drop=True)\n",
    "                # correction of erroneous chemical potential of nitrogen\n",
    "                neat_elements_df['chemical_potential'] = -neat_elements_df['chemical_potential'].abs()\n",
    "                \n",
    "                with nested_zip.open('initial_structures.csv') as init_structures :\n",
    "                    init_structures_df = pd.read_csv(init_structures, sep=',')\n",
    "                    \n",
    "                with nested_zip.open('targets.csv.gz') as targets_gz :\n",
    "                    with gzip.open(targets_gz) as targets_data :\n",
    "                        targets_df = pd.read_csv(targets_data, sep=',')\n",
    "                        \n",
    "    return defects_df, descriptors_df, neat_elements_df, init_structures_df, targets_df\n",
    "\n",
    "\n",
    "def handleTableData(base, concentration) :\n",
    "    \n",
    "    defects_df, descriptors_df, neat_elements_df, init_structures_df, targets_df = \\\n",
    "                                                        readDataFromArchive(base, concentration)\n",
    "    print('\\n' + '*'*90 + '\\n')\n",
    "    \n",
    "    print(f'Information on defects.csv.gz for {base}_{concentration}_concentration')\n",
    "    for unused_property in ['Unnamed: 0', 'defect_id'] :\n",
    "        if unused_property in defects_df.columns:\n",
    "            defects_df.drop(unused_property, axis=1, inplace=True)\n",
    "    print('\\tcolumns:', defects_df.columns)\n",
    "    print('\\tshape:', defects_df.shape)\n",
    "    number_of_unique = len(defects_df['_id'].unique())\n",
    "    print(f'\\t{number_of_unique} unique defect structures')\n",
    "    number_of_unique = len(defects_df['descriptor_id'].unique())\n",
    "    print(f'\\t{number_of_unique} unique defect descriptors')\n",
    "\n",
    "    print(f'Information on descriptors.csv for {base}_{concentration}_concentration')\n",
    "    for unused_property in ['Unnamed: 0', 'defect_id'] :\n",
    "        if unused_property in descriptors_df.columns:\n",
    "            descriptors_df.drop(unused_property, axis=1, inplace=True)\n",
    "    print('\\tcolumns:', descriptors_df.columns)\n",
    "    print('\\tshape:', descriptors_df.shape)\n",
    "    number_of_unique = len(descriptors_df['_id'].unique())\n",
    "    print(f'\\t{number_of_unique} unique defect descriptors')\n",
    "\n",
    "    print(f'Information on targets.csv for {base}_{concentration}_concentration')\n",
    "    for unused_property in ['Unnamed: 0', 'defect_id'] :\n",
    "        if unused_property in targets_df.columns:\n",
    "            targets_df.drop(unused_property, axis=1, inplace=True)\n",
    "    print('\\tcolumns:', targets_df.columns)\n",
    "    print('\\tshape:', targets_df.shape)\n",
    "    number_of_unique = len(targets_df['_id'].unique())\n",
    "    print(f'\\t{number_of_unique} unique defect structures')\n",
    "    number_of_unique = len(targets_df['descriptor_id'].unique())\n",
    "    print(f'\\t{number_of_unique} unique defect descriptors')\n",
    "\n",
    "    print('\\n' + '*'*90 + '\\n')\n",
    "    print('Data checking...')\n",
    "    print(f'Is \\'descriptor_id\\'s (defects.csv) a subset of \\'_id\\'s (descriptors.csv)?', \n",
    "          set(defects_df['descriptor_id']).issubset(set(descriptors_df['_id'])))\n",
    "\n",
    "    defects_df.set_index('_id', inplace=True, drop=True)\n",
    "    targets_df.set_index('_id', inplace=True, drop=True)\n",
    "    descriptors_df.set_index('_id', inplace=True, drop=True)        \n",
    "\n",
    "    data = pd.DataFrame(descriptors_df.loc[defects_df['descriptor_id']].values, \n",
    "                                    columns=descriptors_df.columns, index=defects_df.index)\n",
    "\n",
    "    for additional_data in [defects_df, targets_df] :\n",
    "        for piece_of_data in additional_data.columns :\n",
    "            if (piece_of_data in data.columns) and (additional_data[piece_of_data].dtype != 'O') :\n",
    "                diff = additional_data[piece_of_data] - data[piece_of_data]\n",
    "                out_ = np.abs(diff).max()\n",
    "                print(f'{piece_of_data:>21s} is in the data with the maximum difference of {out_}')\n",
    "            elif (piece_of_data in data.columns) and (additional_data[piece_of_data].dtype == 'O') :\n",
    "                out_ = all(data[piece_of_data] == additional_data[piece_of_data])\n",
    "                print(f'{piece_of_data:>21s} is in the data. Are the column contents the same? {out_}')\n",
    "            else:\n",
    "                data[piece_of_data] = additional_data[piece_of_data]\n",
    "\n",
    "    print('\\n' + '*'*90 + '\\n')\n",
    "    cells_available = sorted(data['cell'].unique())\n",
    "    print('Unique supercells:', cells_available)\n",
    "    print('\\n' + '*'*90 + '\\n')\n",
    "    \n",
    "    data['defects'] = data['defects'].apply(ast.literal_eval)\n",
    "    data['defect_nsites'] = data['defects'].apply(len)\n",
    "                    \n",
    "    return (data, neat_elements_df, init_structures_df)\n",
    "\n",
    "\n",
    "def prepareBaseConcentrationDataset(base, concentration, save_to_file=False) :\n",
    "\n",
    "    data, neat_elements, _ = handleTableData(base, concentration)\n",
    "\n",
    "    print('Reading structures...')\n",
    "    structures = readStructures(base, concentration, data.index)\n",
    "    data = pd.concat((data, structures), axis=1)\n",
    "\n",
    "    # parse structural info\n",
    "    print('Parsing structural information...')\n",
    "    additional_data = Parallel(n_jobs=-1)(delayed(parseStructure)\\\n",
    "                                     (data.loc[_id].cif) \n",
    "                                     for _id in tqdm(data.index))\n",
    "    additional_data = pd.DataFrame(additional_data, index=data.index, \n",
    "                        columns=['space_group_no', 'lattice', 'atomic_positions', 'atomic_symbols', \n",
    "                                           'atomic_numbers', 'formula', 'nsites', 'nspecies'])\n",
    "\n",
    "    data = pd.concat((data, additional_data), axis=1)\n",
    "\n",
    "    # collect additional data\n",
    "    data['defect_concentration'] = concentration\n",
    "    data['structure_formation_energy'] = [structureFormationEnergy(data.loc[i], neat_elements) \n",
    "                                             for i in data.index]\n",
    "    data['structure_formation_energy_per_atom'] = data['structure_formation_energy'] / data['nsites']\n",
    "    data['composition_string'] = data['formula'].apply(lambda x: '_'.join(flatList(list(x.items()))))\n",
    "\n",
    "    data = data[sorted(data.columns)]\n",
    "    \n",
    "    if save_to_file :\n",
    "        data.to_pickle(f'2d-base_{base}-{concentration}_defect_concentration-table.pkl.gz')\n",
    "    \n",
    "    return data\n",
    "\n",
    "\n",
    "def prepareFullDataset(save_to_file=True, filename='2d-materials-point-defects-all-table.pkl.gz'):\n",
    "    \n",
    "    base_datasets = [prepareBaseConcentrationDataset(base, concentration) \n",
    "                         for base, concentration in BASES_and_CONCENTRATIONS]\n",
    "    \n",
    "    full_dataset = pd.concat(base_datasets, axis=0)\n",
    "\n",
    "    full_dataset['ordinal_id'] = list(map(float, range(full_dataset.shape[0])))\n",
    "    full_dataset = full_dataset[sorted(full_dataset.columns)]\n",
    "    print(f'Full dataset shape is {full_dataset.shape}')\n",
    "    \n",
    "    if save_to_file:\n",
    "        full_dataset.to_pickle(filename)\n",
    "        return None\n",
    "    \n",
    "    else:\n",
    "        return full_dataset"
   ]
  },
  {
   "cell_type": "markdown",
   "id": "74d32357",
   "metadata": {},
   "source": [
    "## Processing Datasets (run one time)"
   ]
  },
  {
   "cell_type": "raw",
   "id": "fab49c9b",
   "metadata": {
    "scrolled": false
   },
   "source": [
    "%%time\n",
    "\n",
    "# for MacBook Pro (Intel Core i7 12 threads), data collection takes about 3 minutes \n",
    "# by default the dataset is saved as '2d-materials-point-defects-all-table.pkl.gz' for later use\n",
    "\n",
    "prepareFullDataset()"
   ]
  },
  {
   "cell_type": "markdown",
   "id": "5a889c4f",
   "metadata": {},
   "source": [
    "## Handle data"
   ]
  },
  {
   "cell_type": "markdown",
   "id": "a2c1c30e",
   "metadata": {},
   "source": [
    "### fast screening routines"
   ]
  },
  {
   "cell_type": "code",
   "execution_count": 41,
   "id": "e9aa92de",
   "metadata": {},
   "outputs": [
    {
     "name": "stdout",
     "output_type": "stream",
     "text": [
      "Dataset shape (objects, features) is (14866, 45)\n",
      "Number of unique structure ids is 14866\n"
     ]
    }
   ],
   "source": [
    "full_dataset = pd.read_pickle('2d-materials-point-defects-all-table.pkl.gz')\n",
    "print(f'Dataset shape (objects, features) is {full_dataset.shape}')\n",
    "print(f'Number of unique structure ids is {len(full_dataset.index.unique())}')"
   ]
  },
  {
   "cell_type": "code",
   "execution_count": 42,
   "id": "c4ed6d75",
   "metadata": {},
   "outputs": [
    {
     "name": "stdout",
     "output_type": "stream",
     "text": [
      "<class 'pandas.core.frame.DataFrame'>\n",
      "Index: 14866 entries, P_P141N1_dd6a5668-efc9-4f4c-aee8-ac3472eaf09f to WSe2_Mo4W56Se112S8_e7031dcd-1621-4756-bd39-273b0b78aea9\n",
      "Data columns (total 45 columns):\n",
      " #   Column                               Non-Null Count  Dtype  \n",
      "---  ------                               --------------  -----  \n",
      " 0   E_1                                  1000 non-null   float64\n",
      " 1   E_1_majority                         2000 non-null   float64\n",
      " 2   E_1_minority                         2000 non-null   float64\n",
      " 3   atomic_numbers                       14866 non-null  object \n",
      " 4   atomic_positions                     14866 non-null  object \n",
      " 5   atomic_symbols                       14866 non-null  object \n",
      " 6   band_gap                             12866 non-null  float64\n",
      " 7   band_gap_majority                    14866 non-null  float64\n",
      " 8   band_gap_minority                    14866 non-null  float64\n",
      " 9   base                                 14866 non-null  object \n",
      " 10  cell                                 14866 non-null  object \n",
      " 11  cif                                  14866 non-null  object \n",
      " 12  composition_string                   14866 non-null  object \n",
      " 13  defect_concentration                 14866 non-null  object \n",
      " 14  defect_nsites                        14866 non-null  int64  \n",
      " 15  defects                              14866 non-null  object \n",
      " 16  description                          14866 non-null  object \n",
      " 17  descriptor_id                        14866 non-null  object \n",
      " 18  energy                               14866 non-null  float64\n",
      " 19  energy_per_atom                      14866 non-null  float64\n",
      " 20  fermi_level                          14866 non-null  float64\n",
      " 21  formation_energy                     14866 non-null  float64\n",
      " 22  formation_energy_per_site            14866 non-null  float64\n",
      " 23  formula                              14866 non-null  object \n",
      " 24  homo                                 12866 non-null  float64\n",
      " 25  homo_majority                        14866 non-null  float64\n",
      " 26  homo_minority                        14866 non-null  float64\n",
      " 27  lattice                              14866 non-null  object \n",
      " 28  lumo                                 12866 non-null  float64\n",
      " 29  lumo_majority                        14866 non-null  float64\n",
      " 30  lumo_minority                        14866 non-null  float64\n",
      " 31  normalized_homo                      6933 non-null   float64\n",
      " 32  normalized_homo_majority             8933 non-null   float64\n",
      " 33  normalized_homo_minority             8933 non-null   float64\n",
      " 34  normalized_lumo                      6933 non-null   float64\n",
      " 35  normalized_lumo_majority             8933 non-null   float64\n",
      " 36  normalized_lumo_minority             8933 non-null   float64\n",
      " 37  nsites                               14866 non-null  int64  \n",
      " 38  nspecies                             14866 non-null  int64  \n",
      " 39  ordinal_id                           14866 non-null  float64\n",
      " 40  pbc                                  11866 non-null  object \n",
      " 41  space_group_no                       14866 non-null  int64  \n",
      " 42  structure_formation_energy           14866 non-null  float64\n",
      " 43  structure_formation_energy_per_atom  14866 non-null  float64\n",
      " 44  total_mag                            14866 non-null  float64\n",
      "dtypes: float64(27), int64(4), object(14)\n",
      "memory usage: 5.7+ MB\n"
     ]
    }
   ],
   "source": [
    "full_dataset.info()"
   ]
  },
  {
   "cell_type": "code",
   "execution_count": 43,
   "id": "2a381aed",
   "metadata": {},
   "outputs": [
    {
     "data": {
      "text/plain": [
       "base  cell       defect_concentration  defect_nsites\n",
       "BN    [8, 8, 1]  high                  3                 100\n",
       "                                       6                 100\n",
       "                                       9                 100\n",
       "                                       12                100\n",
       "                                       16                100\n",
       "GaSe  [6, 6, 1]  high                  3                 100\n",
       "                                       7                 100\n",
       "                                       10                100\n",
       "                                       14                100\n",
       "                                       18                100\n",
       "InSe  [6, 6, 1]  high                  3                 100\n",
       "                                       7                 100\n",
       "                                       10                100\n",
       "                                       14                100\n",
       "                                       18                100\n",
       "MoS2  [8, 8, 1]  high                  4                 100\n",
       "                                       9                 100\n",
       "                                       14                100\n",
       "                                       19                100\n",
       "                                       24                100\n",
       "                 low                   1                   4\n",
       "                                       2                 127\n",
       "                                       3                5802\n",
       "P     [6, 6, 1]  high                  3                 100\n",
       "                                       7                 100\n",
       "                                       10                100\n",
       "                                       14                100\n",
       "                                       18                100\n",
       "WSe2  [8, 8, 1]  high                  4                 100\n",
       "                                       9                 100\n",
       "                                       14                100\n",
       "                                       19                100\n",
       "                                       24                100\n",
       "                 low                   1                   4\n",
       "                                       2                 127\n",
       "                                       3                5802\n",
       "dtype: int64"
      ]
     },
     "execution_count": 43,
     "metadata": {},
     "output_type": "execute_result"
    }
   ],
   "source": [
    "full_dataset.groupby(['base', 'cell', 'defect_concentration', 'defect_nsites',]).size()"
   ]
  },
  {
   "cell_type": "code",
   "execution_count": null,
   "id": "4eb22dde",
   "metadata": {},
   "outputs": [],
   "source": [
    "sns.pairplot(full_dataset[['structure_formation_energy',\n",
    "                           'structure_formation_energy_per_atom',\n",
    "                           'nsites', 'defect_nsites',\n",
    "                           'band_gap_majority', \n",
    "                           'band_gap_minority',\n",
    "                           'base']], \n",
    "                         hue='base', palette='viridis')"
   ]
  },
  {
   "cell_type": "code",
   "execution_count": null,
   "id": "5440b7b0",
   "metadata": {},
   "outputs": [],
   "source": [
    "sub_data = full_dataset[(full_dataset['base'] != 'WSe2') & (full_dataset['base'] != 'MoS2')]\n",
    "sns.pairplot(sub_data[['formation_energy',\n",
    "                           'structure_formation_energy',\n",
    "                           'nsites',\n",
    "                           'base']], \n",
    "                         hue='base', palette='viridis')"
   ]
  },
  {
   "cell_type": "markdown",
   "id": "68de2037",
   "metadata": {},
   "source": [
    "### data issues"
   ]
  },
  {
   "cell_type": "raw",
   "id": "0b9f7688",
   "metadata": {},
   "source": [
    "for base, concentration in BASES_and_CONCENTRATIONS :\n",
    "    print(base, concentration)\n",
    "    _, neat_elements, _ = handleTableData(base, concentration)\n",
    "    print(neat_elements)"
   ]
  },
  {
   "cell_type": "code",
   "execution_count": 28,
   "id": "9a983ec3",
   "metadata": {},
   "outputs": [
    {
     "data": {
      "image/png": "[encoded data removed]",
      "text/plain": [
       "<Figure size 324x324 with 1 Axes>"
      ]
     },
     "metadata": {
      "needs_background": "light"
     },
     "output_type": "display_data"
    }
   ],
   "source": [
    "plt.figure(figsize=(4.5, 4.5))\n",
    "for base in ['WSe2', 'MoS2'] :\n",
    "    plt.scatter(full_dataset[full_dataset['base'] == base]['band_gap'],\n",
    "                   full_dataset[full_dataset['base'] == base]['lumo'] - \\\n",
    "                   full_dataset[full_dataset['base'] == base]['homo'], label=base, alpha=0.5)\n",
    "plt.legend()\n",
    "plt.grid(alpha=0.3)\n",
    "plt.xlabel('band gap, eV')\n",
    "plt.ylabel('homo-lumo gap, eV')\n",
    "plt.show()"
   ]
  },
  {
   "cell_type": "code",
   "execution_count": 29,
   "id": "d22c1127",
   "metadata": {},
   "outputs": [
    {
     "name": "stdout",
     "output_type": "stream",
     "text": [
      "WSe2\n",
      "True\n",
      "True\n",
      "True\n",
      "True\n",
      "\n",
      "MoS2\n",
      "True\n",
      "True\n",
      "True\n",
      "True\n",
      "\n"
     ]
    }
   ],
   "source": [
    "for base in ['WSe2', 'MoS2'] :\n",
    "    print(base)\n",
    "    print(all(np.isclose(full_dataset[full_dataset['base'] == base]['lumo'],\n",
    "                    full_dataset[full_dataset['base'] == base]['lumo_minority'])))\n",
    "    print(all(np.isclose(full_dataset[full_dataset['base'] == base]['lumo'],\n",
    "                    full_dataset[full_dataset['base'] == base]['lumo_majority'])))\n",
    "    print(all(np.isclose(full_dataset[full_dataset['base'] == base]['homo'],\n",
    "                    full_dataset[full_dataset['base'] == base]['homo_majority'])))\n",
    "    print(all(np.isclose(full_dataset[full_dataset['base'] == base]['homo'],\n",
    "                    full_dataset[full_dataset['base'] == base]['homo_majority'])))\n",
    "    print()"
   ]
  },
  {
   "cell_type": "markdown",
   "id": "2739b415",
   "metadata": {},
   "source": [
    "### visual for the site"
   ]
  },
  {
   "cell_type": "code",
   "execution_count": 30,
   "id": "0f5271da",
   "metadata": {},
   "outputs": [
    {
     "name": "stdout",
     "output_type": "stream",
     "text": [
      "[6, 6, 1]\n",
      "[{'type': 'substitution', 'from': 'P', 'to': 'N'}, {'type': 'substitution', 'from': 'P', 'to': 'N'}, {'type': 'vacancy', 'element': 'P'}, {'type': 'substitution', 'from': 'P', 'to': 'N'}, {'type': 'substitution', 'from': 'P', 'to': 'N'}, {'type': 'vacancy', 'element': 'P'}, {'type': 'vacancy', 'element': 'P'}, {'type': 'substitution', 'from': 'P', 'to': 'N'}, {'type': 'substitution', 'from': 'P', 'to': 'N'}, {'type': 'vacancy', 'element': 'P'}, {'type': 'vacancy', 'element': 'P'}, {'type': 'substitution', 'from': 'P', 'to': 'N'}, {'type': 'substitution', 'from': 'P', 'to': 'N'}, {'type': 'substitution', 'from': 'P', 'to': 'N'}, {'type': 'vacancy', 'element': 'P'}, {'type': 'vacancy', 'element': 'P'}, {'type': 'vacancy', 'element': 'P'}, {'type': 'vacancy', 'element': 'P'}]\n",
      "N_9_P_126\n",
      "0.09077161096296196\n",
      "\n",
      "[8, 8, 1]\n",
      "[{'type': 'substitution', 'from': 'B', 'to': 'C'}, {'type': 'substitution', 'from': 'B', 'to': 'C'}, {'type': 'substitution', 'from': 'B', 'to': 'C'}, {'type': 'substitution', 'from': 'B', 'to': 'C'}, {'type': 'vacancy', 'element': 'B'}, {'type': 'vacancy', 'element': 'B'}]\n",
      "B_58_C_4_N_64\n",
      "-1.0715948654761913\n",
      "\n",
      "[8, 8, 1]\n",
      "[{'type': 'substitution', 'from': 'Mo', 'to': 'W'}, {'type': 'substitution', 'from': 'S', 'to': 'Se'}, {'type': 'substitution', 'from': 'S', 'to': 'Se'}]\n",
      "Mo_63_S_126_Se_2_W_1\n",
      "-0.8821063539583331\n",
      "\n",
      "[6, 6, 1]\n",
      "[{'type': 'substitution', 'from': 'Se', 'to': 'S'}, {'type': 'vacancy', 'element': 'Ga'}, {'type': 'substitution', 'from': 'Ga', 'to': 'In'}]\n",
      "Ga_70_In_1_S_1_Se_71\n",
      "-0.5703806519580421\n",
      "\n",
      "[6, 6, 1]\n",
      "[{'type': 'substitution', 'from': 'In', 'to': 'Ga'}, {'type': 'substitution', 'from': 'Se', 'to': 'S'}, {'type': 'vacancy', 'element': 'In'}, {'type': 'substitution', 'from': 'In', 'to': 'Ga'}, {'type': 'substitution', 'from': 'In', 'to': 'Ga'}, {'type': 'substitution', 'from': 'In', 'to': 'Ga'}, {'type': 'substitution', 'from': 'In', 'to': 'Ga'}]\n",
      "Ga_5_In_66_S_1_Se_71\n",
      "-0.5125895477622383\n",
      "\n"
     ]
    }
   ],
   "source": [
    "vis_subset = full_dataset.loc[['P_P126N9_314e6036-22ea-459f-baa1-603a415ca576',\n",
    "                               'BN_B58C4N64_8eaeaa60-6bdb-40d8-ab1c-b6734d8e0111',\n",
    "                               '6141f8669cbada84a8676bab',\n",
    "                               'GaSe_In1Ga70Se71S1_767bc621-755c-4eef-ac72-187559b2a24f',\n",
    "                               'InSe_In66Ga5Se71S1_0094c69b-73b6-4191-adba-c4f7bc4491f5',\n",
    "                 \n",
    "                 ]][['defects', 'defect_nsites', 'cell',\n",
    "                     'structure_formation_energy_per_atom', 'composition_string']]\n",
    "\n",
    "for vis_id in vis_subset.index :\n",
    "    print(vis_subset.loc[vis_id]['cell'])\n",
    "    print(vis_subset.loc[vis_id]['defects'])\n",
    "    print(vis_subset.loc[vis_id]['composition_string'])\n",
    "    \n",
    "    print(min(full_dataset[full_dataset['composition_string'] == vis_subset.loc[vis_id]['composition_string']]\\\n",
    "    ['structure_formation_energy_per_atom']))\n",
    "    print()"
   ]
  },
  {
   "cell_type": "markdown",
   "id": "7a4a87fe",
   "metadata": {},
   "source": [
    "### Sample Machine Learning Routines"
   ]
  },
  {
   "cell_type": "code",
   "execution_count": 31,
   "id": "7144a402",
   "metadata": {},
   "outputs": [
    {
     "name": "stdout",
     "output_type": "stream",
     "text": [
      "full dataset shape is (14866, 45)\n",
      "MoS2 dataset shape is (6433, 45)\n"
     ]
    }
   ],
   "source": [
    "print('full dataset shape is', full_dataset.shape)\n",
    "MoS2_dataset = full_dataset[full_dataset['base'] == 'MoS2'].copy()\n",
    "print('MoS2 dataset shape is', MoS2_dataset.shape)"
   ]
  },
  {
   "cell_type": "code",
   "execution_count": 32,
   "id": "16400232",
   "metadata": {},
   "outputs": [
    {
     "data": {
      "text/html": [
       "<div>\n",
       "<style scoped>\n",
       "    .dataframe tbody tr th:only-of-type {\n",
       "        vertical-align: middle;\n",
       "    }\n",
       "\n",
       "    .dataframe tbody tr th {\n",
       "        vertical-align: top;\n",
       "    }\n",
       "\n",
       "    .dataframe thead th {\n",
       "        text-align: right;\n",
       "    }\n",
       "</style>\n",
       "<table border=\"1\" class=\"dataframe\">\n",
       "  <thead>\n",
       "    <tr style=\"text-align: right;\">\n",
       "      <th></th>\n",
       "      <th>defects</th>\n",
       "      <th>description</th>\n",
       "    </tr>\n",
       "    <tr>\n",
       "      <th>_id</th>\n",
       "      <th></th>\n",
       "      <th></th>\n",
       "    </tr>\n",
       "  </thead>\n",
       "  <tbody>\n",
       "    <tr>\n",
       "      <th>6141cf0efbfd4bd9ab2c2f7e</th>\n",
       "      <td>[{'type': 'vacancy', 'element': 'S'}]</td>\n",
       "      <td>X1</td>\n",
       "    </tr>\n",
       "    <tr>\n",
       "      <th>6141cf0f51c1cbd9654b8870</th>\n",
       "      <td>[{'type': 'vacancy', 'element': 'S'}, {'type':...</td>\n",
       "      <td>X2</td>\n",
       "    </tr>\n",
       "    <tr>\n",
       "      <th>6141cf0fe689ecc4c43cdd4b</th>\n",
       "      <td>[{'type': 'substitution', 'from': 'S', 'to': '...</td>\n",
       "      <td>X3</td>\n",
       "    </tr>\n",
       "    <tr>\n",
       "      <th>6141cf10b842c2e72e2f2d44</th>\n",
       "      <td>[{'type': 'substitution', 'from': 'S', 'to': '...</td>\n",
       "      <td>X4</td>\n",
       "    </tr>\n",
       "    <tr>\n",
       "      <th>6141cf1051c1cbd9654b8872</th>\n",
       "      <td>[{'type': 'vacancy', 'element': 'S'}, {'type':...</td>\n",
       "      <td>X2</td>\n",
       "    </tr>\n",
       "    <tr>\n",
       "      <th>...</th>\n",
       "      <td>...</td>\n",
       "      <td>...</td>\n",
       "    </tr>\n",
       "    <tr>\n",
       "      <th>MoS2_Mo56W4Se8S112_347fa841-1f27-46b8-857a-8968015fb7b2</th>\n",
       "      <td>[{'type': 'substitution', 'from': 'S', 'to': '...</td>\n",
       "      <td>Mo56W4Se8S112</td>\n",
       "    </tr>\n",
       "    <tr>\n",
       "      <th>MoS2_Mo56W4Se8S112_46fc57c3-dc25-4119-973c-ba464abbdfab</th>\n",
       "      <td>[{'type': 'substitution', 'from': 'S', 'to': '...</td>\n",
       "      <td>Mo56W4Se8S112</td>\n",
       "    </tr>\n",
       "    <tr>\n",
       "      <th>MoS2_Mo56W4Se8S112_b9ac74d9-367f-400b-b141-71b10700174c</th>\n",
       "      <td>[{'type': 'substitution', 'from': 'S', 'to': '...</td>\n",
       "      <td>Mo56W4Se8S112</td>\n",
       "    </tr>\n",
       "    <tr>\n",
       "      <th>MoS2_Mo56W4Se8S112_722d9a51-de0a-4654-ad83-645859a749a1</th>\n",
       "      <td>[{'type': 'substitution', 'from': 'S', 'to': '...</td>\n",
       "      <td>Mo56W4Se8S112</td>\n",
       "    </tr>\n",
       "    <tr>\n",
       "      <th>MoS2_Mo56W4Se8S112_fcfeec86-630a-47fb-b433-70725b3b42bf</th>\n",
       "      <td>[{'type': 'substitution', 'from': 'S', 'to': '...</td>\n",
       "      <td>Mo56W4Se8S112</td>\n",
       "    </tr>\n",
       "  </tbody>\n",
       "</table>\n",
       "<p>6433 rows × 2 columns</p>\n",
       "</div>"
      ],
      "text/plain": [
       "                                                                                              defects  \\\n",
       "_id                                                                                                     \n",
       "6141cf0efbfd4bd9ab2c2f7e                                        [{'type': 'vacancy', 'element': 'S'}]   \n",
       "6141cf0f51c1cbd9654b8870                            [{'type': 'vacancy', 'element': 'S'}, {'type':...   \n",
       "6141cf0fe689ecc4c43cdd4b                            [{'type': 'substitution', 'from': 'S', 'to': '...   \n",
       "6141cf10b842c2e72e2f2d44                            [{'type': 'substitution', 'from': 'S', 'to': '...   \n",
       "6141cf1051c1cbd9654b8872                            [{'type': 'vacancy', 'element': 'S'}, {'type':...   \n",
       "...                                                                                               ...   \n",
       "MoS2_Mo56W4Se8S112_347fa841-1f27-46b8-857a-8968...  [{'type': 'substitution', 'from': 'S', 'to': '...   \n",
       "MoS2_Mo56W4Se8S112_46fc57c3-dc25-4119-973c-ba46...  [{'type': 'substitution', 'from': 'S', 'to': '...   \n",
       "MoS2_Mo56W4Se8S112_b9ac74d9-367f-400b-b141-71b1...  [{'type': 'substitution', 'from': 'S', 'to': '...   \n",
       "MoS2_Mo56W4Se8S112_722d9a51-de0a-4654-ad83-6458...  [{'type': 'substitution', 'from': 'S', 'to': '...   \n",
       "MoS2_Mo56W4Se8S112_fcfeec86-630a-47fb-b433-7072...  [{'type': 'substitution', 'from': 'S', 'to': '...   \n",
       "\n",
       "                                                      description  \n",
       "_id                                                                \n",
       "6141cf0efbfd4bd9ab2c2f7e                                       X1  \n",
       "6141cf0f51c1cbd9654b8870                                       X2  \n",
       "6141cf0fe689ecc4c43cdd4b                                       X3  \n",
       "6141cf10b842c2e72e2f2d44                                       X4  \n",
       "6141cf1051c1cbd9654b8872                                       X2  \n",
       "...                                                           ...  \n",
       "MoS2_Mo56W4Se8S112_347fa841-1f27-46b8-857a-8968...  Mo56W4Se8S112  \n",
       "MoS2_Mo56W4Se8S112_46fc57c3-dc25-4119-973c-ba46...  Mo56W4Se8S112  \n",
       "MoS2_Mo56W4Se8S112_b9ac74d9-367f-400b-b141-71b1...  Mo56W4Se8S112  \n",
       "MoS2_Mo56W4Se8S112_722d9a51-de0a-4654-ad83-6458...  Mo56W4Se8S112  \n",
       "MoS2_Mo56W4Se8S112_fcfeec86-630a-47fb-b433-7072...  Mo56W4Se8S112  \n",
       "\n",
       "[6433 rows x 2 columns]"
      ]
     },
     "execution_count": 32,
     "metadata": {},
     "output_type": "execute_result"
    }
   ],
   "source": [
    "MoS2_dataset[['defects', 'description']]"
   ]
  },
  {
   "cell_type": "code",
   "execution_count": 33,
   "id": "778c078a",
   "metadata": {
    "scrolled": false
   },
   "outputs": [],
   "source": [
    "def getDefectDescription(defects):\n",
    "    \n",
    "    decoded = [defect['element']+'_vac' if 'element' in defect.keys()\n",
    "                else defect['from']+'_subst_by_'+defect['to'] \n",
    "                for defect in defects]\n",
    "    return Counter(decoded)\n",
    "\n",
    "\n",
    "def addUniqueDefectTable(data):\n",
    "    \n",
    "    defect_counters = data['defects'].apply(getDefectDescription)\n",
    "    all_defects = map(lambda x: list(x.keys()), defect_counters)\n",
    "    unique_defects = sorted(list(set(chain.from_iterable(all_defects))))\n",
    "    defect_table = [[defect_counter[unique_defect] if unique_defect in defect_counter.keys() else 0\n",
    "                     for unique_defect in unique_defects]\n",
    "                    for defect_counter in defect_counters ]\n",
    "    defect_table = pd.DataFrame(defect_table, index=data.index, columns=unique_defects)\n",
    "    descriptive_power = defect_table.drop_duplicates().shape[0] / defect_table.shape[0]\n",
    "    print(f'defect table distingishes {100*descriptive_power:.3f}% of the structures provided')\n",
    "    return pd.concat((data, defect_table), axis=1), unique_defects"
   ]
  },
  {
   "cell_type": "code",
   "execution_count": 14,
   "id": "21bfb787",
   "metadata": {
    "scrolled": false
   },
   "outputs": [
    {
     "name": "stdout",
     "output_type": "stream",
     "text": [
      "defect table distingishes 3.233% of the structures provided\n"
     ]
    }
   ],
   "source": [
    "MoS2_dataset, unique_defects = addUniqueDefectTable(MoS2_dataset)\n",
    "features = unique_defects + ['nspecies', 'nsites', 'defect_nsites', 'space_group_no']"
   ]
  },
  {
   "cell_type": "code",
   "execution_count": 15,
   "id": "1214e4a7",
   "metadata": {},
   "outputs": [],
   "source": [
    "from sklearn.ensemble import RandomForestRegressor\n",
    "from sklearn.metrics import mean_squared_error as mse, r2_score\n",
    "from sklearn.model_selection import GridSearchCV, train_test_split\n",
    "\n",
    "model = GridSearchCV(estimator=RandomForestRegressor(n_jobs=-1, ), \n",
    "                     param_grid={'n_estimators':range(100, 400, 50)}, )"
   ]
  },
  {
   "cell_type": "code",
   "execution_count": 16,
   "id": "a9205986",
   "metadata": {
    "scrolled": false
   },
   "outputs": [
    {
     "name": "stdout",
     "output_type": "stream",
     "text": [
      "train size 96 test size 1287\n",
      "rmse =  0.023000325743573954\n"
     ]
    },
    {
     "ename": "NameError",
     "evalue": "name 'feat_imp' is not defined",
     "output_type": "error",
     "traceback": [
      "\u001b[0;31m---------------------------------------------------------------------------\u001b[0m",
      "\u001b[0;31mNameError\u001b[0m                                 Traceback (most recent call last)",
      "\u001b[0;32m<ipython-input-16-4873cb45d14a>\u001b[0m in \u001b[0;36m<module>\u001b[0;34m\u001b[0m\n\u001b[1;32m     31\u001b[0m         \u001b[0maxs\u001b[0m\u001b[0;34m[\u001b[0m\u001b[0;36m0\u001b[0m\u001b[0;34m,\u001b[0m\u001b[0mind\u001b[0m\u001b[0;34m]\u001b[0m\u001b[0;34m.\u001b[0m\u001b[0mgrid\u001b[0m\u001b[0;34m(\u001b[0m\u001b[0malpha\u001b[0m\u001b[0;34m=\u001b[0m\u001b[0;36m0.3\u001b[0m\u001b[0;34m)\u001b[0m\u001b[0;34m\u001b[0m\u001b[0;34m\u001b[0m\u001b[0m\n\u001b[1;32m     32\u001b[0m \u001b[0;34m\u001b[0m\u001b[0m\n\u001b[0;32m---> 33\u001b[0;31m         \u001b[0maxs\u001b[0m\u001b[0;34m[\u001b[0m\u001b[0;36m1\u001b[0m\u001b[0;34m,\u001b[0m\u001b[0mind\u001b[0m\u001b[0;34m]\u001b[0m\u001b[0;34m.\u001b[0m\u001b[0mbarh\u001b[0m\u001b[0;34m(\u001b[0m\u001b[0mrange\u001b[0m\u001b[0;34m(\u001b[0m\u001b[0mlen\u001b[0m\u001b[0;34m(\u001b[0m\u001b[0mfeatures\u001b[0m\u001b[0;34m)\u001b[0m\u001b[0;34m)\u001b[0m\u001b[0;34m,\u001b[0m \u001b[0mwidth\u001b[0m\u001b[0;34m=\u001b[0m\u001b[0mfeat_imp\u001b[0m\u001b[0;34m)\u001b[0m\u001b[0;34m\u001b[0m\u001b[0;34m\u001b[0m\u001b[0m\n\u001b[0m\u001b[1;32m     34\u001b[0m         \u001b[0maxs\u001b[0m\u001b[0;34m[\u001b[0m\u001b[0;36m1\u001b[0m\u001b[0;34m,\u001b[0m\u001b[0mind\u001b[0m\u001b[0;34m]\u001b[0m\u001b[0;34m.\u001b[0m\u001b[0mset_xlabel\u001b[0m\u001b[0;34m(\u001b[0m\u001b[0;34m'Feature importance'\u001b[0m\u001b[0;34m)\u001b[0m\u001b[0;34m\u001b[0m\u001b[0;34m\u001b[0m\u001b[0m\n\u001b[1;32m     35\u001b[0m \u001b[0;34m\u001b[0m\u001b[0m\n",
      "\u001b[0;31mNameError\u001b[0m: name 'feat_imp' is not defined"
     ]
    },
    {
     "data": {
      "image/png": "[encoded data removed]",
      "text/plain": [
       "<Figure size 864x432 with 6 Axes>"
      ]
     },
     "metadata": {
      "needs_background": "light"
     },
     "output_type": "display_data"
    }
   ],
   "source": [
    "MoS2_train, MoS2_test = train_test_split(MoS2_dataset, test_size=0.2, shuffle=True, random_state=0)\n",
    "\n",
    "for target in ['energy_per_atom', 'structure_formation_energy_per_atom', \n",
    "               'energy', 'structure_formation_energy',]:\n",
    "\n",
    "    fig, axs = plt.subplots(2, 3, figsize=(12,6))\n",
    "    plt.suptitle(f'Target: {target}')\n",
    "    axs[0,0].set_ylabel(f'DFT-derived, eV/atom')\n",
    "    axs[1,0].set_ylabel(f'Features')\n",
    "    for kk in range(3) :\n",
    "        plt.sca(axs[1,kk])\n",
    "        if kk == 0 : \n",
    "            plt.yticks(range(len(features)), features)\n",
    "        else :\n",
    "            plt.yticks(range(len(features)), features)\n",
    "\n",
    "    for ind, i in enumerate(range(2,5)) :\n",
    "        MoS2_train_reduced = MoS2_train[MoS2_train['defect_nsites'] <= i]\n",
    "        print('train size', MoS2_train_reduced.shape[0], 'test size', MoS2_test.shape[0])\n",
    "\n",
    "        model.fit(MoS2_train_reduced[features], MoS2_train_reduced[target])\n",
    "        dft_values = MoS2_test[target]\n",
    "        predictions = model.predict(MoS2_test[features])\n",
    "        print('rmse = ', mse(dft_values, predictions, squared=False))\n",
    "\n",
    "        axs[0,ind].scatter(model.predict(MoS2_train_reduced[features]),\n",
    "                    MoS2_train_reduced[target], label='Train', alpha=0.3)\n",
    "        axs[0,ind].scatter(predictions, dft_values, label='Test', alpha=0.3)\n",
    "\n",
    "        axs[0,ind].set_xlabel('RF predictions, eV/atom')\n",
    "        axs[0,ind].grid(alpha=0.3)\n",
    "        \n",
    "        axs[1,ind].barh(range(len(features)), width=feat_imp)\n",
    "        axs[1,ind].set_xlabel('Feature importance')\n",
    "        \n",
    "        axs[1,ind].grid(alpha=0.3)\n",
    "        \n",
    "    axs[0,ind].legend()\n",
    "    \n",
    "    \n",
    "    plt.tight_layout()\n",
    "    plt.show()"
   ]
  },
  {
   "cell_type": "code",
   "execution_count": null,
   "id": "06d64d60",
   "metadata": {},
   "outputs": [],
   "source": [
    "MoS2_train[features]"
   ]
  },
  {
   "cell_type": "markdown",
   "id": "85492fbc",
   "metadata": {},
   "source": [
    "### Sample input for Graph Neural Networks (Allegro)"
   ]
  },
  {
   "cell_type": "code",
   "execution_count": 28,
   "id": "df3e52d0",
   "metadata": {},
   "outputs": [],
   "source": [
    "def allegroInput(dataset_file) :\n",
    "    \n",
    "    print(f'Allegro input generation for {dataset_file}')\n",
    "    data = pd.read_pickle(dataset_file)\n",
    "    dataset_xyz = re.sub('pkl.gz', 'xyz', dataset_file)\n",
    "    with open(dataset_xyz, 'w') as out :\n",
    "        for index in tqdm(data.index) :\n",
    "            item = data.loc[index]\n",
    "            lattice = item['lattice']\n",
    "            atomic_symbols = item['atomic_symbols']\n",
    "            positions = item['atomic_positions']\n",
    "            fe = item['structure_formation_energy']\n",
    "            fe_pa = item['structure_formation_energy_per_atom']\n",
    "            ordinal_id = item['ordinal_id']\n",
    "\n",
    "            out.write(f'{item.nsites}\\n')\n",
    "            out.write('Lattice=\\\"'+' '.join(list(map(str, list((lattice).reshape(-1,)))))+'\\\" ')\n",
    "            out.write('Properties=species:S:1:pos:R:3 pbc=\\\"T T F\\\"  ') \n",
    "            out.write(f'ordinal_id={ordinal_id} \\\n",
    "                        structure_formation_energy={fe} \\\n",
    "                        structure_formation_energy_per_atom={fe_pa} ')        \n",
    "            out.write('\\n')\n",
    "            for symbol, pos in zip(atomic_symbols, positions) :\n",
    "                out.write(symbol + '   ' + ' '.join(list(map(str, pos)))+'\\n')"
   ]
  },
  {
   "cell_type": "code",
   "execution_count": 29,
   "id": "341d644c",
   "metadata": {},
   "outputs": [
    {
     "name": "stdout",
     "output_type": "stream",
     "text": [
      "Allegro input generation for 2d-materials-point-defects-all-table.pkl.gz\n"
     ]
    },
    {
     "data": {
      "application/vnd.jupyter.widget-view+json": {
       "model_id": "e1c035e0956d4f06bb71273bf9d7359e",
       "version_major": 2,
       "version_minor": 0
      },
      "text/plain": [
       "  0%|          | 0/14866 [00:00<?, ?it/s]"
      ]
     },
     "metadata": {},
     "output_type": "display_data"
    }
   ],
   "source": [
    "allegroInput(dataset_file='2d-materials-point-defects-all-table.pkl.gz')"
   ]
  },
  {
   "cell_type": "code",
   "execution_count": null,
   "id": "61ce7a54",
   "metadata": {},
   "outputs": [],
   "source": []
  }
 ],
 "metadata": {
  "kernelspec": {
   "display_name": "Python 3",
   "language": "python",
   "name": "python3"
  },
  "language_info": {
   "codemirror_mode": {
    "name": "ipython",
    "version": 3
   },
   "file_extension": ".py",
   "mimetype": "text/x-python",
   "name": "python",
   "nbconvert_exporter": "python",
   "pygments_lexer": "ipython3",
   "version": "3.8.8"
  }
 },
 "nbformat": 4,
 "nbformat_minor": 5
}
